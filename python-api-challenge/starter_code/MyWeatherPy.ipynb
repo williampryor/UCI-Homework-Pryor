{
 "cells": [
  {
   "cell_type": "code",
   "execution_count": 42,
   "metadata": {},
   "outputs": [],
   "source": [
    "#import dependencies\n",
    "\n",
    "import matplotlib.pyplot as plt\n",
    "import pandas as pd\n",
    "import numpy as np\n",
    "import requests\n",
    "from api_keys import weather_api_key\n",
    "import os\n",
    "from scipy import stats\n",
    "from citipy import citipy\n"
   ]
  },
  {
   "cell_type": "code",
   "execution_count": 43,
   "metadata": {},
   "outputs": [],
   "source": [
    "#set variables url and query_url to include the weather open weather url and use that url to make a query url \n",
    "#so that we can pull data from open weather map\n",
    "url = \"https://api.openweathermap.org/data/2.5/weather?\"\n",
    "units = \"Fahrenheit\"\n",
    "query_url = url + \"appid=\" + weather_api_key + \"&units={units}\" + \"&q=\""
   ]
  },
  {
   "cell_type": "code",
   "execution_count": 63,
   "metadata": {},
   "outputs": [
    {
     "data": {
      "text/plain": [
       "724"
      ]
     },
     "execution_count": 63,
     "metadata": {},
     "output_type": "execute_result"
    }
   ],
   "source": [
    "#jsonify the query_url\n",
    "weather_response = requests.get(query_url)\n",
    "weather_json = weather_response.json()\n",
    "\n",
    "#generate variable to hold a list for coordinates\n",
    "\n",
    "coordinates = []\n",
    "\n",
    "#np.random.uniform draws samples from a uniform distribution and uses low and high as array_like floats\n",
    "#size in this argument is used to define an integer or tuple of integers\n",
    "random_latitude = np.random.uniform(low=-90, high=90, size=1800)\n",
    "random_longitude = np.random.uniform(low=-90, high=90, size=1800)\n",
    "\n",
    "#fill blank coordinates list with randomly generated latitudes and longitudes\n",
    "coordinates = zip(random_latitude, random_longitude)\n",
    "\n",
    "#generate variable called cities to hold a list\n",
    "\n",
    "cities = []\n",
    "\n",
    "#use for loops to loop through and identify citipy using the coordinates list\n",
    "#nearest_city and city_name can be found in the source code of citipy https://pydoc.net/citipy/0.0.5/citipy.citipy/\n",
    "for coordinates in coordinates:\n",
    "    city = citipy.nearest_city(coordinates[0], coordinates[1]).city_name\n",
    "\n",
    "#find unique values in the city variable and append those values to the cities list    \n",
    "    if city not in cities:\n",
    "        cities.append(city)\n",
    "        \n",
    "len(cities)"
   ]
  },
  {
   "cell_type": "code",
   "execution_count": 37,
   "metadata": {},
   "outputs": [
    {
     "name": "stdout",
     "output_type": "stream",
     "text": [
      "<module 'citipy' from '/Users/williampryor/opt/anaconda3/envs/PythonData/lib/python3.6/site-packages/citipy/__init__.py'>\n"
     ]
    }
   ],
   "source": []
  },
  {
   "cell_type": "code",
   "execution_count": null,
   "metadata": {},
   "outputs": [],
   "source": []
  }
 ],
 "metadata": {
  "kernelspec": {
   "display_name": "Python 3",
   "language": "python",
   "name": "python3"
  },
  "language_info": {
   "codemirror_mode": {
    "name": "ipython",
    "version": 3
   },
   "file_extension": ".py",
   "mimetype": "text/x-python",
   "name": "python",
   "nbconvert_exporter": "python",
   "pygments_lexer": "ipython3",
   "version": "3.6.12"
  }
 },
 "nbformat": 4,
 "nbformat_minor": 4
}
